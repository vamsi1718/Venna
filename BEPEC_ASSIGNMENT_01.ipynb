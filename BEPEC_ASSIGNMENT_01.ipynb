{
  "nbformat": 4,
  "nbformat_minor": 0,
  "metadata": {
    "kernelspec": {
      "display_name": "Python 3",
      "language": "python",
      "name": "python3"
    },
    "language_info": {
      "codemirror_mode": {
        "name": "ipython",
        "version": 3
      },
      "file_extension": ".py",
      "mimetype": "text/x-python",
      "name": "python",
      "nbconvert_exporter": "python",
      "pygments_lexer": "ipython3",
      "version": "3.7.7"
    },
    "colab": {
      "name": "BEPEC_ASSIGNMENT_01.ipynb",
      "provenance": [],
      "include_colab_link": true
    }
  },
  "cells": [
    {
      "cell_type": "markdown",
      "metadata": {
        "id": "view-in-github",
        "colab_type": "text"
      },
      "source": [
        "<a href=\"https://colab.research.google.com/github/vamsi1718/Venna/blob/master/BEPEC_ASSIGNMENT_01.ipynb\" target=\"_parent\"><img src=\"https://colab.research.google.com/assets/colab-badge.svg\" alt=\"Open In Colab\"/></a>"
      ]
    },
    {
      "cell_type": "markdown",
      "metadata": {
        "id": "jnnWYQrEoKSD"
      },
      "source": [
        "# Are accessed as list.method()."
      ]
    },
    {
      "cell_type": "code",
      "metadata": {
        "id": "z3M0BKnNoKSF",
        "outputId": "cdff65ee-fae8-40a4-d5f7-c593b682abbc"
      },
      "source": [
        "L = []\n",
        "print(L)\n",
        "type(L)"
      ],
      "execution_count": null,
      "outputs": [
        {
          "output_type": "stream",
          "text": [
            "[]\n"
          ],
          "name": "stdout"
        },
        {
          "output_type": "execute_result",
          "data": {
            "text/plain": [
              "list"
            ]
          },
          "metadata": {
            "tags": []
          },
          "execution_count": 53
        }
      ]
    },
    {
      "cell_type": "code",
      "metadata": {
        "id": "9BB3U1JloKSO",
        "outputId": "81506156-10bd-4b1e-a782-741e4abc0d1f"
      },
      "source": [
        "L = [1,3,4,5]\n",
        "\n",
        "print(L)\n"
      ],
      "execution_count": null,
      "outputs": [
        {
          "output_type": "stream",
          "text": [
            "[1, 3, 4, 5]\n"
          ],
          "name": "stdout"
        }
      ]
    },
    {
      "cell_type": "code",
      "metadata": {
        "id": "dcCOnVT1oKST",
        "outputId": "640c0d9e-4eb2-4500-cebf-d9de616f6678"
      },
      "source": [
        "shopping_list = ['apple' , 'banana' , 'carrot' , 'mango']\n",
        "shopping_list"
      ],
      "execution_count": null,
      "outputs": [
        {
          "output_type": "execute_result",
          "data": {
            "text/plain": [
              "['apple', 'banana', 'carrot', 'mango']"
            ]
          },
          "metadata": {
            "tags": []
          },
          "execution_count": 55
        }
      ]
    },
    {
      "cell_type": "code",
      "metadata": {
        "id": "sHkgVFJFoKSX",
        "outputId": "315af237-b9ad-423c-eabb-3684cf4b4daa"
      },
      "source": [
        "shopping_list.append('grapes')\n",
        "shopping_list"
      ],
      "execution_count": null,
      "outputs": [
        {
          "output_type": "execute_result",
          "data": {
            "text/plain": [
              "['apple', 'banana', 'carrot', 'mango', 'grapes']"
            ]
          },
          "metadata": {
            "tags": []
          },
          "execution_count": 56
        }
      ]
    },
    {
      "cell_type": "code",
      "metadata": {
        "id": "2t8lWZAzoKSc",
        "outputId": "e0cb34c6-1dc9-4e40-8272-5a673e59bc96"
      },
      "source": [
        "shopping_list.extend(['orange', 'promogranete' ,'rice'])\n",
        "print(shopping_list)"
      ],
      "execution_count": null,
      "outputs": [
        {
          "output_type": "stream",
          "text": [
            "['apple', 'banana', 'carrot', 'mango', 'grapes', 'orange', 'promogranete', 'rice']\n"
          ],
          "name": "stdout"
        }
      ]
    },
    {
      "cell_type": "code",
      "metadata": {
        "id": "vdhGmiS-oKSg",
        "outputId": "03f5e7ce-56eb-4a83-d84f-af469d11e58a"
      },
      "source": [
        "shopping_list.insert(0,'wheat')\n",
        "shopping_list"
      ],
      "execution_count": null,
      "outputs": [
        {
          "output_type": "execute_result",
          "data": {
            "text/plain": [
              "['wheat',\n",
              " 'apple',\n",
              " 'banana',\n",
              " 'carrot',\n",
              " 'mango',\n",
              " 'grapes',\n",
              " 'orange',\n",
              " 'promogranete',\n",
              " 'rice']"
            ]
          },
          "metadata": {
            "tags": []
          },
          "execution_count": 58
        }
      ]
    },
    {
      "cell_type": "code",
      "metadata": {
        "id": "VSYI3zEGoKSk"
      },
      "source": [
        "s = shopping_list\n"
      ],
      "execution_count": null,
      "outputs": []
    },
    {
      "cell_type": "code",
      "metadata": {
        "id": "VO4SsvoHoKSq",
        "outputId": "68d71168-d9d3-408c-910d-1f2a7b4eb0dc"
      },
      "source": [
        "s.remove('wheat')\n",
        "s"
      ],
      "execution_count": null,
      "outputs": [
        {
          "output_type": "execute_result",
          "data": {
            "text/plain": [
              "['apple',\n",
              " 'banana',\n",
              " 'carrot',\n",
              " 'mango',\n",
              " 'grapes',\n",
              " 'orange',\n",
              " 'promogranete',\n",
              " 'rice']"
            ]
          },
          "metadata": {
            "tags": []
          },
          "execution_count": 60
        }
      ]
    },
    {
      "cell_type": "code",
      "metadata": {
        "id": "1OtW1sb1oKSv",
        "outputId": "1d2a7a7f-1d32-4450-db2f-be57e113d710"
      },
      "source": [
        "s.pop(1)\n",
        "s"
      ],
      "execution_count": null,
      "outputs": [
        {
          "output_type": "execute_result",
          "data": {
            "text/plain": [
              "['apple', 'carrot', 'mango', 'grapes', 'orange', 'promogranete', 'rice']"
            ]
          },
          "metadata": {
            "tags": []
          },
          "execution_count": 61
        }
      ]
    },
    {
      "cell_type": "code",
      "metadata": {
        "id": "7ykRHQTxoKSz",
        "outputId": "82c335d9-b5de-4689-a85d-aaa3ef645d62"
      },
      "source": [
        "s.index('apple')"
      ],
      "execution_count": null,
      "outputs": [
        {
          "output_type": "execute_result",
          "data": {
            "text/plain": [
              "0"
            ]
          },
          "metadata": {
            "tags": []
          },
          "execution_count": 62
        }
      ]
    },
    {
      "cell_type": "code",
      "metadata": {
        "id": "TmOyC4DNoKS7",
        "outputId": "24cd8d95-86d0-4930-d866-da03ca09c3a4"
      },
      "source": [
        "s.count('rice')"
      ],
      "execution_count": null,
      "outputs": [
        {
          "output_type": "execute_result",
          "data": {
            "text/plain": [
              "1"
            ]
          },
          "metadata": {
            "tags": []
          },
          "execution_count": 63
        }
      ]
    },
    {
      "cell_type": "code",
      "metadata": {
        "id": "00jYog6HoKTD",
        "outputId": "7a160b43-9dda-46db-bce8-bdea309bebcd"
      },
      "source": [
        "s.sort()\n",
        "s"
      ],
      "execution_count": null,
      "outputs": [
        {
          "output_type": "execute_result",
          "data": {
            "text/plain": [
              "['apple', 'carrot', 'grapes', 'mango', 'orange', 'promogranete', 'rice']"
            ]
          },
          "metadata": {
            "tags": []
          },
          "execution_count": 67
        }
      ]
    },
    {
      "cell_type": "code",
      "metadata": {
        "id": "XFBdPR4zoKTI",
        "outputId": "ecb8ef72-b50e-4c1a-842a-a1c5a589ae7e"
      },
      "source": [
        "s.reverse()\n",
        "s"
      ],
      "execution_count": null,
      "outputs": [
        {
          "output_type": "execute_result",
          "data": {
            "text/plain": [
              "['rice', 'promogranete', 'orange', 'mango', 'grapes', 'carrot', 'apple']"
            ]
          },
          "metadata": {
            "tags": []
          },
          "execution_count": 68
        }
      ]
    },
    {
      "cell_type": "code",
      "metadata": {
        "id": "ApLuMPqCoKTM",
        "outputId": "1f84c8db-2f24-4272-fd62-4625a3ad7e7b"
      },
      "source": [
        "s.copy()"
      ],
      "execution_count": null,
      "outputs": [
        {
          "output_type": "execute_result",
          "data": {
            "text/plain": [
              "['rice', 'promogranete', 'orange', 'mango', 'grapes', 'carrot', 'apple']"
            ]
          },
          "metadata": {
            "tags": []
          },
          "execution_count": 69
        }
      ]
    },
    {
      "cell_type": "markdown",
      "metadata": {
        "id": "B19VJCMUoKTQ"
      },
      "source": [
        ""
      ]
    },
    {
      "cell_type": "markdown",
      "metadata": {
        "id": "-uJ0qVsBoKTR"
      },
      "source": [
        "## Built-in Functions with List"
      ]
    },
    {
      "cell_type": "code",
      "metadata": {
        "id": "0tgewf0ioKTR",
        "outputId": "4a02747d-5a7a-4d22-c271-a853a41c1d9e"
      },
      "source": [
        "g =  ['apple', 'carrot', 'mango', 0 , 'grapes', 'orange', 'promogranete', 'rice']\n",
        "all(g)"
      ],
      "execution_count": null,
      "outputs": [
        {
          "output_type": "execute_result",
          "data": {
            "text/plain": [
              "False"
            ]
          },
          "metadata": {
            "tags": []
          },
          "execution_count": 79
        }
      ]
    },
    {
      "cell_type": "code",
      "metadata": {
        "id": "ZTIyb8OMoKTV",
        "outputId": "d2900066-106e-446a-d008-8faa9a328e39"
      },
      "source": [
        "any(g)"
      ],
      "execution_count": null,
      "outputs": [
        {
          "output_type": "execute_result",
          "data": {
            "text/plain": [
              "True"
            ]
          },
          "metadata": {
            "tags": []
          },
          "execution_count": 80
        }
      ]
    },
    {
      "cell_type": "code",
      "metadata": {
        "id": "1sFW5j_IoKTZ",
        "outputId": "bda36190-3be3-466c-a557-ad9dcce4de8c"
      },
      "source": [
        "enumerate(g)"
      ],
      "execution_count": null,
      "outputs": [
        {
          "output_type": "execute_result",
          "data": {
            "text/plain": [
              "<enumerate at 0x2097cdf6cc8>"
            ]
          },
          "metadata": {
            "tags": []
          },
          "execution_count": 81
        }
      ]
    },
    {
      "cell_type": "code",
      "metadata": {
        "id": "1NvqIi-xoKTd",
        "outputId": "af2ddc47-a869-4c1c-f126-547d484eef72"
      },
      "source": [
        "len(g)"
      ],
      "execution_count": null,
      "outputs": [
        {
          "output_type": "execute_result",
          "data": {
            "text/plain": [
              "8"
            ]
          },
          "metadata": {
            "tags": []
          },
          "execution_count": 82
        }
      ]
    },
    {
      "cell_type": "code",
      "metadata": {
        "id": "MGvotSsooKTh",
        "outputId": "5e39d290-b87b-462e-be59-8e8d73287ab3"
      },
      "source": [
        "d = ('rice', 'promogranete', 'orange', 'mango')\n",
        "list(d)"
      ],
      "execution_count": null,
      "outputs": [
        {
          "output_type": "execute_result",
          "data": {
            "text/plain": [
              "['rice', 'promogranete', 'orange', 'mango']"
            ]
          },
          "metadata": {
            "tags": []
          },
          "execution_count": 78
        }
      ]
    },
    {
      "cell_type": "code",
      "metadata": {
        "id": "T19FhB__oKTm",
        "outputId": "fbe9cc12-d7dd-42b4-c9de-b1d2fd5803d7"
      },
      "source": [
        "e = { 2, 5, 6, 2, 3 }\n",
        "e"
      ],
      "execution_count": null,
      "outputs": [
        {
          "output_type": "execute_result",
          "data": {
            "text/plain": [
              "{2, 3, 5, 6}"
            ]
          },
          "metadata": {
            "tags": []
          },
          "execution_count": 83
        }
      ]
    },
    {
      "cell_type": "code",
      "metadata": {
        "id": "SpF7voCOoKTq",
        "outputId": "b8f22c4a-cd37-426a-ef40-6cb07cda81ca"
      },
      "source": [
        "list(e)"
      ],
      "execution_count": null,
      "outputs": [
        {
          "output_type": "execute_result",
          "data": {
            "text/plain": [
              "[2, 3, 5, 6]"
            ]
          },
          "metadata": {
            "tags": []
          },
          "execution_count": 84
        }
      ]
    },
    {
      "cell_type": "code",
      "metadata": {
        "id": "VqDjcOADoKTu",
        "outputId": "bd8074b5-91f4-4d92-8f69-daf41834856d"
      },
      "source": [
        "max(e)"
      ],
      "execution_count": null,
      "outputs": [
        {
          "output_type": "execute_result",
          "data": {
            "text/plain": [
              "6"
            ]
          },
          "metadata": {
            "tags": []
          },
          "execution_count": 85
        }
      ]
    },
    {
      "cell_type": "code",
      "metadata": {
        "id": "Zq66nYdmoKTy",
        "outputId": "a6824ff5-02ba-43b0-8ade-c03eabf46c7a"
      },
      "source": [
        "max(s)"
      ],
      "execution_count": null,
      "outputs": [
        {
          "output_type": "execute_result",
          "data": {
            "text/plain": [
              "'rice'"
            ]
          },
          "metadata": {
            "tags": []
          },
          "execution_count": 87
        }
      ]
    },
    {
      "cell_type": "code",
      "metadata": {
        "id": "6phOKd9qoKT2",
        "outputId": "77333e0c-406a-4ce7-ced4-6da3146365d1"
      },
      "source": [
        "min(d)"
      ],
      "execution_count": null,
      "outputs": [
        {
          "output_type": "execute_result",
          "data": {
            "text/plain": [
              "'mango'"
            ]
          },
          "metadata": {
            "tags": []
          },
          "execution_count": 88
        }
      ]
    },
    {
      "cell_type": "code",
      "metadata": {
        "id": "5z-RzzD6oKT5",
        "outputId": "80c52829-c851-46c4-cb5f-3bf452f36ad0"
      },
      "source": [
        "max(e)\n"
      ],
      "execution_count": null,
      "outputs": [
        {
          "output_type": "execute_result",
          "data": {
            "text/plain": [
              "6"
            ]
          },
          "metadata": {
            "tags": []
          },
          "execution_count": 90
        }
      ]
    },
    {
      "cell_type": "code",
      "metadata": {
        "id": "oJAU78D7oKT_",
        "outputId": "a9e27878-d550-416b-adb4-a5dcbbc7c254"
      },
      "source": [
        "min(e)"
      ],
      "execution_count": null,
      "outputs": [
        {
          "output_type": "execute_result",
          "data": {
            "text/plain": [
              "2"
            ]
          },
          "metadata": {
            "tags": []
          },
          "execution_count": 91
        }
      ]
    },
    {
      "cell_type": "code",
      "metadata": {
        "id": "QPyy3saRoKUF",
        "outputId": "d0c6797b-2e5b-46a9-d125-2cf619daddd6"
      },
      "source": [
        "sorted(d)"
      ],
      "execution_count": null,
      "outputs": [
        {
          "output_type": "execute_result",
          "data": {
            "text/plain": [
              "['mango', 'orange', 'promogranete', 'rice']"
            ]
          },
          "metadata": {
            "tags": []
          },
          "execution_count": 92
        }
      ]
    },
    {
      "cell_type": "code",
      "metadata": {
        "id": "fcSQf0tvoKUJ",
        "outputId": "f27de1a0-75bb-4bec-db1b-98ee88f47383"
      },
      "source": [
        "sum(e)"
      ],
      "execution_count": null,
      "outputs": [
        {
          "output_type": "execute_result",
          "data": {
            "text/plain": [
              "16"
            ]
          },
          "metadata": {
            "tags": []
          },
          "execution_count": 94
        }
      ]
    },
    {
      "cell_type": "code",
      "metadata": {
        "id": "fo9h6lsBoKUM"
      },
      "source": [
        ""
      ],
      "execution_count": null,
      "outputs": []
    }
  ]
}